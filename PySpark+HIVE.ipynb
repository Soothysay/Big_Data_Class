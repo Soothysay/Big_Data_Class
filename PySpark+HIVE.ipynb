{
  "nbformat": 4,
  "nbformat_minor": 0,
  "metadata": {
    "colab": {
      "name": "PySpark+HIVE.ipynb",
      "provenance": [],
      "collapsed_sections": [],
      "toc_visible": true,
      "mount_file_id": "1JrkGyAWUMDIBCCR5L8R2W4RqJ_MMVcTX",
      "authorship_tag": "ABX9TyPEBml9bjNnkU+kwtfjFCtI",
      "include_colab_link": true
    },
    "kernelspec": {
      "name": "python3",
      "display_name": "Python 3"
    },
    "language_info": {
      "name": "python"
    }
  },
  "cells": [
    {
      "cell_type": "markdown",
      "metadata": {
        "id": "view-in-github",
        "colab_type": "text"
      },
      "source": [
        "<a href=\"https://colab.research.google.com/github/Soothysay/Big_Data_Class/blob/main/PySpark%2BHIVE.ipynb\" target=\"_parent\"><img src=\"https://colab.research.google.com/assets/colab-badge.svg\" alt=\"Open In Colab\"/></a>"
      ]
    },
    {
      "cell_type": "markdown",
      "metadata": {
        "id": "2Of57Yam5qup"
      },
      "source": [
        "# Installing the Required Files"
      ]
    },
    {
      "cell_type": "code",
      "metadata": {
        "id": "QGUd6zGeECpf"
      },
      "source": [
        "!apt-get install openjdk-8-jdk-headless -qq > /dev/null"
      ],
      "execution_count": null,
      "outputs": []
    },
    {
      "cell_type": "code",
      "metadata": {
        "id": "ABfts5KLHpCT"
      },
      "source": [
        "!wget -q https://www-us.apache.org/dist/spark/spark-3.0.3/spark-3.0.3-bin-hadoop2.7.tgz"
      ],
      "execution_count": null,
      "outputs": []
    },
    {
      "cell_type": "code",
      "metadata": {
        "id": "BG9q6kv6H-BW"
      },
      "source": [
        "!tar xf spark-3.0.3-bin-hadoop2.7.tgz"
      ],
      "execution_count": null,
      "outputs": []
    },
    {
      "cell_type": "code",
      "metadata": {
        "id": "6rJIEboQIGqw"
      },
      "source": [
        "!pip install -q findspark"
      ],
      "execution_count": null,
      "outputs": []
    },
    {
      "cell_type": "code",
      "metadata": {
        "id": "2fbQQczeIKzz"
      },
      "source": [
        "import os\n",
        "os.environ[\"JAVA_HOME\"] = \"/usr/lib/jvm/java-8-openjdk-amd64\"\n",
        "os.environ[\"SPARK_HOME\"] = \"/content/spark-3.0.3-bin-hadoop2.7\""
      ],
      "execution_count": null,
      "outputs": []
    },
    {
      "cell_type": "code",
      "metadata": {
        "id": "CHCsfkUGIR2w"
      },
      "source": [
        "import findspark\n",
        "findspark.init()"
      ],
      "execution_count": null,
      "outputs": []
    },
    {
      "cell_type": "code",
      "metadata": {
        "colab": {
          "base_uri": "https://localhost:8080/",
          "height": 35
        },
        "id": "giOhLrbsITht",
        "outputId": "5a7be87c-1c67-4aae-a11d-ce883e12e64f"
      },
      "source": [
        "findspark.find()"
      ],
      "execution_count": null,
      "outputs": [
        {
          "output_type": "execute_result",
          "data": {
            "application/vnd.google.colaboratory.intrinsic+json": {
              "type": "string"
            },
            "text/plain": [
              "'/content/spark-3.0.3-bin-hadoop2.7'"
            ]
          },
          "metadata": {
            "tags": []
          },
          "execution_count": 7
        }
      ]
    },
    {
      "cell_type": "markdown",
      "metadata": {
        "id": "feqJrMKn57R7"
      },
      "source": [
        "# Launching Spark Session"
      ]
    },
    {
      "cell_type": "code",
      "metadata": {
        "id": "QqVLWXEiIfBQ"
      },
      "source": [
        "from pyspark.sql import SparkSession\n",
        "# Launching Spark Session with Hive\n",
        "spark = SparkSession.builder\\\n",
        "        .master(\"local\")\\\n",
        "        .appName(\"Colab\")\\\n",
        "        .config('spark.ui.port', '4050')\\\n",
        "        .enableHiveSupport()\\\n",
        "        .getOrCreate()"
      ],
      "execution_count": null,
      "outputs": []
    },
    {
      "cell_type": "code",
      "metadata": {
        "colab": {
          "base_uri": "https://localhost:8080/",
          "height": 216
        },
        "id": "j3ccd-0Bo41P",
        "outputId": "108f9008-d6a7-404d-f6a1-1aebbd7464fe"
      },
      "source": [
        "spark"
      ],
      "execution_count": null,
      "outputs": [
        {
          "output_type": "execute_result",
          "data": {
            "text/html": [
              "\n",
              "            <div>\n",
              "                <p><b>SparkSession - hive</b></p>\n",
              "                \n",
              "        <div>\n",
              "            <p><b>SparkContext</b></p>\n",
              "\n",
              "            <p><a href=\"http://06193afc45ba:4050\">Spark UI</a></p>\n",
              "\n",
              "            <dl>\n",
              "              <dt>Version</dt>\n",
              "                <dd><code>v3.0.3</code></dd>\n",
              "              <dt>Master</dt>\n",
              "                <dd><code>local</code></dd>\n",
              "              <dt>AppName</dt>\n",
              "                <dd><code>Colab</code></dd>\n",
              "            </dl>\n",
              "        </div>\n",
              "        \n",
              "            </div>\n",
              "        "
            ],
            "text/plain": [
              "<pyspark.sql.session.SparkSession at 0x7f5ea34de690>"
            ]
          },
          "metadata": {
            "tags": []
          },
          "execution_count": 14
        }
      ]
    },
    {
      "cell_type": "markdown",
      "metadata": {
        "id": "e5T6pvHa52AX"
      },
      "source": [
        "# Optional"
      ]
    },
    {
      "cell_type": "code",
      "metadata": {
        "colab": {
          "base_uri": "https://localhost:8080/"
        },
        "id": "zQ6EFXp6IiG5",
        "outputId": "cccc4691-dfb6-44e5-b7fe-d2ed2e534185"
      },
      "source": [
        "!wget https://bin.equinox.io/c/4VmDzA7iaHb/ngrok-stable-linux-amd64.zip\n",
        "!unzip ngrok-stable-linux-amd64.zip\n",
        "get_ipython().system_raw('./ngrok http 4050 &')\n",
        "!curl -s http://localhost:4040/api/tunnels"
      ],
      "execution_count": null,
      "outputs": [
        {
          "output_type": "stream",
          "text": [
            "--2021-07-08 15:16:35--  https://bin.equinox.io/c/4VmDzA7iaHb/ngrok-stable-linux-amd64.zip\n",
            "Resolving bin.equinox.io (bin.equinox.io)... 34.228.108.156, 44.193.52.174, 3.223.240.69, ...\n",
            "Connecting to bin.equinox.io (bin.equinox.io)|34.228.108.156|:443... connected.\n",
            "HTTP request sent, awaiting response... 200 OK\n",
            "Length: 13832437 (13M) [application/octet-stream]\n",
            "Saving to: ‘ngrok-stable-linux-amd64.zip.16’\n",
            "\n",
            "ngrok-stable-linux- 100%[===================>]  13.19M  31.4MB/s    in 0.4s    \n",
            "\n",
            "2021-07-08 15:16:36 (31.4 MB/s) - ‘ngrok-stable-linux-amd64.zip.16’ saved [13832437/13832437]\n",
            "\n",
            "Archive:  ngrok-stable-linux-amd64.zip\n",
            "replace ngrok? [y]es, [n]o, [A]ll, [N]one, [r]ename: A\n",
            "  inflating: ngrok                   \n",
            "{\"tunnels\":[{\"name\":\"command_line (http)\",\"uri\":\"/api/tunnels/command_line%20%28http%29\",\"public_url\":\"http://bbdc2ebb25e7.ngrok.io\",\"proto\":\"http\",\"config\":{\"addr\":\"http://localhost:4050\",\"inspect\":true},\"metrics\":{\"conns\":{\"count\":25,\"gauge\":0,\"rate1\":8.798996708838241e-26,\"rate5\":1.2829204357588716e-7,\"rate15\":0.00006176545889112435,\"p50\":30004865410,\"p90\":34104069592.600002,\"p95\":34970123409.5,\"p99\":35237984171},\"http\":{\"count\":96,\"rate1\":4.26948902289676e-25,\"rate5\":9.286672607985973e-7,\"rate15\":0.00046783708067246694,\"p50\":2904082,\"p90\":19813823.29999999,\"p95\":28071157.34999996,\"p99\":95496502}}},{\"name\":\"command_line\",\"uri\":\"/api/tunnels/command_line\",\"public_url\":\"https://bbdc2ebb25e7.ngrok.io\",\"proto\":\"https\",\"config\":{\"addr\":\"http://localhost:4050\",\"inspect\":true},\"metrics\":{\"conns\":{\"count\":0,\"gauge\":0,\"rate1\":0,\"rate5\":0,\"rate15\":0,\"p50\":0,\"p90\":0,\"p95\":0,\"p99\":0},\"http\":{\"count\":0,\"rate1\":0,\"rate5\":0,\"rate15\":0,\"p50\":0,\"p90\":0,\"p95\":0,\"p99\":0}}}],\"uri\":\"/api/tunnels\"}\n"
          ],
          "name": "stdout"
        }
      ]
    },
    {
      "cell_type": "markdown",
      "metadata": {
        "id": "bOqfGTLX6C1D"
      },
      "source": [
        "# Creating Spark DataFrame"
      ]
    },
    {
      "cell_type": "code",
      "metadata": {
        "id": "P7pPyMjHLAK9"
      },
      "source": [
        "df = spark.read.csv('/content/exchg_rate.csv',header=True,inferSchema=True)"
      ],
      "execution_count": null,
      "outputs": []
    },
    {
      "cell_type": "code",
      "metadata": {
        "colab": {
          "base_uri": "https://localhost:8080/"
        },
        "id": "VEQKMqNlLAUq",
        "outputId": "64a69c40-9bf4-4cc7-82dc-67d9b1937ae5"
      },
      "source": [
        "df.show()"
      ],
      "execution_count": null,
      "outputs": [
        {
          "output_type": "stream",
          "text": [
            "+----------+--------+----------------+--------------------+-------------------+---------------------+----------------------+---------------------+-------------+\n",
            "|FROMCRNCCD|TOCRNCCD|CRNCFROMLONGDESC|      CRNCTOLONGDESC|CRNCEXCHGRATETYPECD|CRNCEXCHGRATETYPEDESC|CRNCEXCHGRATEEFFSTRTDT|CRNCEXCHGRATEEFFENDDT|CRNCEXCHGRATE|\n",
            "+----------+--------+----------------+--------------------+-------------------+---------------------+----------------------+---------------------+-------------+\n",
            "|       SKK|     BDT| Slovakian Krona|     Bangladesh Taka|                  B|            excg rate|              01/11/05|             30/11/05|  3.182271075|\n",
            "|       SKK|     USD| Slovakian Krona|     American Dollar|                  B|            excg rate|              01/11/05|             30/11/05|  0.044820719|\n",
            "|       SKK|   *UNK*| Slovakian Krona|                null|                  B|            excg rate|              01/11/05|             30/11/05|          0.0|\n",
            "|       SKK|     IDR| Slovakian Krona|   Indonesian Rupiah|                  B|            excg rate|              01/11/05|             30/11/05|  403.3864743|\n",
            "|       SKK|     MYR| Slovakian Krona|   Malaysian Ringgit|                  B|            excg rate|              01/11/05|             30/11/05|   0.13894423|\n",
            "|       SKK|     PYG| Slovakian Krona|  Paraguayan Guarani|                  B|            excg rate|              01/11/05|             30/11/05|   210.657381|\n",
            "|       SKK|     HRK| Slovakian Krona|       Croatian Kuna|                  B|            excg rate|              01/11/05|             30/11/05|  0.236909325|\n",
            "|       SKK|     UYU| Slovakian Krona|Uruguayan Peso (new)|                  B|            excg rate|              01/11/05|             30/11/05|  0.896414387|\n",
            "|       SKK|     KRW| Slovakian Krona|    South Korean Won|                  B|            excg rate|              01/11/05|             30/11/05|  51.54382727|\n",
            "|       SKK|     ZWD| Slovakian Krona|   Zimbabwean Dollar|                  B|            excg rate|              01/11/05|             30/11/05|   0.16449204|\n",
            "|       SKK|     CZK| Slovakian Krona|         Czech Krona|                  B|            excg rate|              01/11/05|             30/11/05|  0.800369861|\n",
            "|       SKK|     THB| Slovakian Krona|       Thailand Baht|                  B|            excg rate|              01/11/05|             30/11/05|  1.344621581|\n",
            "|       SKK|     AUD| Slovakian Krona|   Australian Dollar|                  B|            excg rate|              01/11/05|             30/11/05|  0.047179705|\n",
            "|       SKK|     VND| Slovakian Krona|     Vietnamese Dong|                  B|            excg rate|              01/11/05|             30/11/05|  941.2351066|\n",
            "|       SKK|     HKD| Slovakian Krona|    Hong Kong Dollar|                  B|            excg rate|              01/11/05|             30/11/05|  0.349601611|\n",
            "|       SKK|     SGD| Slovakian Krona|    Singapore Dollar|                  B|            excg rate|              01/11/05|             30/11/05|  0.056025899|\n",
            "|       SKK|     CAD| Slovakian Krona|     Canadian Dollar|                  B|            excg rate|              01/11/05|             30/11/05|  0.044820719|\n",
            "|       SKK|     GBP| Slovakian Krona|       British Pound|                  B|            excg rate|              01/11/05|             30/11/05|   0.02721256|\n",
            "|       SKK|     ZAR| Slovakian Krona|  South African Rand|                  B|            excg rate|              01/11/05|             30/11/05|  0.336155395|\n",
            "|       SKK|     TRL| Slovakian Krona|        Turkish Lira|                  B|            excg rate|              01/11/05|             30/11/05|  71713.15098|\n",
            "+----------+--------+----------------+--------------------+-------------------+---------------------+----------------------+---------------------+-------------+\n",
            "only showing top 20 rows\n",
            "\n"
          ],
          "name": "stdout"
        }
      ]
    },
    {
      "cell_type": "code",
      "metadata": {
        "id": "1Sp-LGfiLAaW",
        "colab": {
          "base_uri": "https://localhost:8080/"
        },
        "outputId": "349e033f-3441-43c5-d20f-2347af0b35d1"
      },
      "source": [
        "df.printSchema()"
      ],
      "execution_count": null,
      "outputs": [
        {
          "output_type": "stream",
          "text": [
            "root\n",
            " |-- FROMCRNCCD: string (nullable = true)\n",
            " |-- TOCRNCCD: string (nullable = true)\n",
            " |-- CRNCFROMLONGDESC: string (nullable = true)\n",
            " |-- CRNCTOLONGDESC: string (nullable = true)\n",
            " |-- CRNCEXCHGRATETYPECD: string (nullable = true)\n",
            " |-- CRNCEXCHGRATETYPEDESC: string (nullable = true)\n",
            " |-- CRNCEXCHGRATEEFFSTRTDT: string (nullable = true)\n",
            " |-- CRNCEXCHGRATEEFFENDDT: string (nullable = true)\n",
            " |-- CRNCEXCHGRATE: double (nullable = true)\n",
            "\n"
          ],
          "name": "stdout"
        }
      ]
    },
    {
      "cell_type": "code",
      "metadata": {
        "id": "Vxua9YPQLAd5",
        "colab": {
          "base_uri": "https://localhost:8080/"
        },
        "outputId": "6da577f5-9350-4950-cad1-4124198cd62e"
      },
      "source": [
        "df.count()"
      ],
      "execution_count": null,
      "outputs": [
        {
          "output_type": "execute_result",
          "data": {
            "text/plain": [
              "725671"
            ]
          },
          "metadata": {
            "tags": []
          },
          "execution_count": 25
        }
      ]
    },
    {
      "cell_type": "code",
      "metadata": {
        "id": "PKnVuVCZLAgi",
        "colab": {
          "base_uri": "https://localhost:8080/"
        },
        "outputId": "57c39f94-8d9e-4219-ece4-e3b94e797562"
      },
      "source": [
        "# Summary of Data\n",
        "df.describe().show()"
      ],
      "execution_count": null,
      "outputs": [
        {
          "output_type": "stream",
          "text": [
            "+-------+----------+--------+-----------------+-----------------+-------------------+---------------------+----------------------+---------------------+------------------+\n",
            "|summary|FROMCRNCCD|TOCRNCCD| CRNCFROMLONGDESC|   CRNCTOLONGDESC|CRNCEXCHGRATETYPECD|CRNCEXCHGRATETYPEDESC|CRNCEXCHGRATEEFFSTRTDT|CRNCEXCHGRATEEFFENDDT|     CRNCEXCHGRATE|\n",
            "+-------+----------+--------+-----------------+-----------------+-------------------+---------------------+----------------------+---------------------+------------------+\n",
            "|  count|    725671|  725671|           714598|           714598|             725671|               725671|                725671|               725671|            725671|\n",
            "|   mean|      null|    null|             null|             null|               null|                 null|                  null|                 null| 8617.573998703845|\n",
            "| stddev|      null|    null|             null|             null|               null|                 null|                  null|                 null|123838.61709580038|\n",
            "|    min|     *UNK*|   *UNK*|  American Dollar|  American Dollar|                  B|            excg rate|            0001-01-01|             28/02/06|               0.0|\n",
            "|    max|       ZWD|     ZWD|Zimbabwean Dollar|Zimbabwean Dollar|                  B|            excg rate|              01/12/21|             31/12/99|       4329510.879|\n",
            "+-------+----------+--------+-----------------+-----------------+-------------------+---------------------+----------------------+---------------------+------------------+\n",
            "\n"
          ],
          "name": "stdout"
        }
      ]
    },
    {
      "cell_type": "markdown",
      "metadata": {
        "id": "dueoO2tb6T0R"
      },
      "source": [
        "# Some Basic Spark DataFrame Operations"
      ]
    },
    {
      "cell_type": "code",
      "metadata": {
        "id": "583bJvjOLAjl"
      },
      "source": [
        "set1=df.select('FROMCRNCCD','TOCRNCCD','CRNCEXCHGRATE')"
      ],
      "execution_count": null,
      "outputs": []
    },
    {
      "cell_type": "code",
      "metadata": {
        "id": "L-NgTNCWLAmY",
        "colab": {
          "base_uri": "https://localhost:8080/"
        },
        "outputId": "d4f4d651-ba57-47e3-93be-97f5905dc6cb"
      },
      "source": [
        "set1.show()"
      ],
      "execution_count": null,
      "outputs": [
        {
          "output_type": "stream",
          "text": [
            "+----------+--------+-------------+\n",
            "|FROMCRNCCD|TOCRNCCD|CRNCEXCHGRATE|\n",
            "+----------+--------+-------------+\n",
            "|       SKK|     BDT|  3.182271075|\n",
            "|       SKK|     USD|  0.044820719|\n",
            "|       SKK|   *UNK*|          0.0|\n",
            "|       SKK|     IDR|  403.3864743|\n",
            "|       SKK|     MYR|   0.13894423|\n",
            "|       SKK|     PYG|   210.657381|\n",
            "|       SKK|     HRK|  0.236909325|\n",
            "|       SKK|     UYU|  0.896414387|\n",
            "|       SKK|     KRW|  51.54382727|\n",
            "|       SKK|     ZWD|   0.16449204|\n",
            "|       SKK|     CZK|  0.800369861|\n",
            "|       SKK|     THB|  1.344621581|\n",
            "|       SKK|     AUD|  0.047179705|\n",
            "|       SKK|     VND|  941.2351066|\n",
            "|       SKK|     HKD|  0.349601611|\n",
            "|       SKK|     SGD|  0.056025899|\n",
            "|       SKK|     CAD|  0.044820719|\n",
            "|       SKK|     GBP|   0.02721256|\n",
            "|       SKK|     ZAR|  0.336155395|\n",
            "|       SKK|     TRL|  71713.15098|\n",
            "+----------+--------+-------------+\n",
            "only showing top 20 rows\n",
            "\n"
          ],
          "name": "stdout"
        }
      ]
    },
    {
      "cell_type": "code",
      "metadata": {
        "id": "_d0d6RKfLAo-",
        "colab": {
          "base_uri": "https://localhost:8080/"
        },
        "outputId": "8eaa79a8-606e-4e6b-f49b-f651eaa23e49"
      },
      "source": [
        "df.filter(df.FROMCRNCCD=='INR').show()"
      ],
      "execution_count": null,
      "outputs": [
        {
          "output_type": "stream",
          "text": [
            "+----------+--------+----------------+--------------------+-------------------+---------------------+----------------------+---------------------+-------------+\n",
            "|FROMCRNCCD|TOCRNCCD|CRNCFROMLONGDESC|      CRNCTOLONGDESC|CRNCEXCHGRATETYPECD|CRNCEXCHGRATETYPEDESC|CRNCEXCHGRATEEFFSTRTDT|CRNCEXCHGRATEEFFENDDT|CRNCEXCHGRATE|\n",
            "+----------+--------+----------------+--------------------+-------------------+---------------------+----------------------+---------------------+-------------+\n",
            "|       INR|     BDT|    Indian Rupee|     Bangladesh Taka|                  B|            excg rate|              01/11/05|             30/11/05|  1.577777778|\n",
            "|       INR|     USD|    Indian Rupee|     American Dollar|                  B|            excg rate|              01/11/05|             30/11/05|  0.022222222|\n",
            "|       INR|   *UNK*|    Indian Rupee|                null|                  B|            excg rate|              01/11/05|             30/11/05|          0.0|\n",
            "|       INR|     IDR|    Indian Rupee|   Indonesian Rupiah|                  B|            excg rate|              01/11/05|             30/11/05|        200.0|\n",
            "|       INR|     MYR|    Indian Rupee|   Malaysian Ringgit|                  B|            excg rate|              01/11/05|             30/11/05|  0.068888889|\n",
            "|       INR|     PYG|    Indian Rupee|  Paraguayan Guarani|                  B|            excg rate|              01/11/05|             30/11/05|  104.4444444|\n",
            "|       INR|     HRK|    Indian Rupee|       Croatian Kuna|                  B|            excg rate|              01/11/05|             30/11/05|  0.117460222|\n",
            "|       INR|     UYU|    Indian Rupee|Uruguayan Peso (new)|                  B|            excg rate|              01/11/05|             30/11/05|  0.444444444|\n",
            "|       INR|     KRW|    Indian Rupee|    South Korean Won|                  B|            excg rate|              01/11/05|             30/11/05|  25.55555556|\n",
            "|       INR|     ZWD|    Indian Rupee|   Zimbabwean Dollar|                  B|            excg rate|              01/11/05|             30/11/05|  0.081555556|\n",
            "|       INR|     CZK|    Indian Rupee|         Czech Krona|                  B|            excg rate|              01/11/05|             30/11/05|  0.396825333|\n",
            "|       INR|     THB|    Indian Rupee|       Thailand Baht|                  B|            excg rate|              01/11/05|             30/11/05|  0.666666667|\n",
            "|       INR|     AUD|    Indian Rupee|   Australian Dollar|                  B|            excg rate|              01/11/05|             30/11/05|  0.023391813|\n",
            "|       INR|     VND|    Indian Rupee|     Vietnamese Dong|                  B|            excg rate|              01/11/05|             30/11/05|  466.6666667|\n",
            "|       INR|     HKD|    Indian Rupee|    Hong Kong Dollar|                  B|            excg rate|              01/11/05|             30/11/05|  0.173333333|\n",
            "|       INR|     SGD|    Indian Rupee|    Singapore Dollar|                  B|            excg rate|              01/11/05|             30/11/05|  0.027777778|\n",
            "|       INR|     CAD|    Indian Rupee|     Canadian Dollar|                  B|            excg rate|              01/11/05|             30/11/05|  0.022222222|\n",
            "|       INR|     GBP|    Indian Rupee|       British Pound|                  B|            excg rate|              01/11/05|             30/11/05|  0.013492054|\n",
            "|       INR|     ZAR|    Indian Rupee|  South African Rand|                  B|            excg rate|              01/11/05|             30/11/05|  0.166666667|\n",
            "|       INR|     TRL|    Indian Rupee|        Turkish Lira|                  B|            excg rate|              01/11/05|             30/11/05|  35555.55556|\n",
            "+----------+--------+----------------+--------------------+-------------------+---------------------+----------------------+---------------------+-------------+\n",
            "only showing top 20 rows\n",
            "\n"
          ],
          "name": "stdout"
        }
      ]
    },
    {
      "cell_type": "markdown",
      "metadata": {
        "id": "CK5CWGct6dxB"
      },
      "source": [
        "# Create Temporary View (HIVE Table)"
      ]
    },
    {
      "cell_type": "code",
      "metadata": {
        "id": "HR8ypoz6LAsN"
      },
      "source": [
        "# Converting Spark Dataframe to Hive Table\n",
        "df.write.mode(\"overwrite\").saveAsTable(\"test_table2\")"
      ],
      "execution_count": null,
      "outputs": []
    },
    {
      "cell_type": "code",
      "metadata": {
        "id": "fuw13fPA6qJa"
      },
      "source": [
        "#Instances where INR Present\n",
        "INR=spark.sql(\"select * from test_table2  a where a.FROMCRNCCD=='INR'\")"
      ],
      "execution_count": null,
      "outputs": []
    },
    {
      "cell_type": "code",
      "metadata": {
        "colab": {
          "base_uri": "https://localhost:8080/"
        },
        "id": "ZCI435UW6xHO",
        "outputId": "dc0f972e-eed7-4648-d2b9-7fac08d03ea2"
      },
      "source": [
        "INR.show()"
      ],
      "execution_count": null,
      "outputs": [
        {
          "output_type": "stream",
          "text": [
            "+----------+--------+----------------+--------------------+-------------------+---------------------+----------------------+---------------------+-------------+\n",
            "|FROMCRNCCD|TOCRNCCD|CRNCFROMLONGDESC|      CRNCTOLONGDESC|CRNCEXCHGRATETYPECD|CRNCEXCHGRATETYPEDESC|CRNCEXCHGRATEEFFSTRTDT|CRNCEXCHGRATEEFFENDDT|CRNCEXCHGRATE|\n",
            "+----------+--------+----------------+--------------------+-------------------+---------------------+----------------------+---------------------+-------------+\n",
            "|       INR|     BDT|    Indian Rupee|     Bangladesh Taka|                  B|            excg rate|              01/11/05|             30/11/05|  1.577777778|\n",
            "|       INR|     USD|    Indian Rupee|     American Dollar|                  B|            excg rate|              01/11/05|             30/11/05|  0.022222222|\n",
            "|       INR|   *UNK*|    Indian Rupee|                null|                  B|            excg rate|              01/11/05|             30/11/05|          0.0|\n",
            "|       INR|     IDR|    Indian Rupee|   Indonesian Rupiah|                  B|            excg rate|              01/11/05|             30/11/05|        200.0|\n",
            "|       INR|     MYR|    Indian Rupee|   Malaysian Ringgit|                  B|            excg rate|              01/11/05|             30/11/05|  0.068888889|\n",
            "|       INR|     PYG|    Indian Rupee|  Paraguayan Guarani|                  B|            excg rate|              01/11/05|             30/11/05|  104.4444444|\n",
            "|       INR|     HRK|    Indian Rupee|       Croatian Kuna|                  B|            excg rate|              01/11/05|             30/11/05|  0.117460222|\n",
            "|       INR|     UYU|    Indian Rupee|Uruguayan Peso (new)|                  B|            excg rate|              01/11/05|             30/11/05|  0.444444444|\n",
            "|       INR|     KRW|    Indian Rupee|    South Korean Won|                  B|            excg rate|              01/11/05|             30/11/05|  25.55555556|\n",
            "|       INR|     ZWD|    Indian Rupee|   Zimbabwean Dollar|                  B|            excg rate|              01/11/05|             30/11/05|  0.081555556|\n",
            "|       INR|     CZK|    Indian Rupee|         Czech Krona|                  B|            excg rate|              01/11/05|             30/11/05|  0.396825333|\n",
            "|       INR|     THB|    Indian Rupee|       Thailand Baht|                  B|            excg rate|              01/11/05|             30/11/05|  0.666666667|\n",
            "|       INR|     AUD|    Indian Rupee|   Australian Dollar|                  B|            excg rate|              01/11/05|             30/11/05|  0.023391813|\n",
            "|       INR|     VND|    Indian Rupee|     Vietnamese Dong|                  B|            excg rate|              01/11/05|             30/11/05|  466.6666667|\n",
            "|       INR|     HKD|    Indian Rupee|    Hong Kong Dollar|                  B|            excg rate|              01/11/05|             30/11/05|  0.173333333|\n",
            "|       INR|     SGD|    Indian Rupee|    Singapore Dollar|                  B|            excg rate|              01/11/05|             30/11/05|  0.027777778|\n",
            "|       INR|     CAD|    Indian Rupee|     Canadian Dollar|                  B|            excg rate|              01/11/05|             30/11/05|  0.022222222|\n",
            "|       INR|     GBP|    Indian Rupee|       British Pound|                  B|            excg rate|              01/11/05|             30/11/05|  0.013492054|\n",
            "|       INR|     ZAR|    Indian Rupee|  South African Rand|                  B|            excg rate|              01/11/05|             30/11/05|  0.166666667|\n",
            "|       INR|     TRL|    Indian Rupee|        Turkish Lira|                  B|            excg rate|              01/11/05|             30/11/05|  35555.55556|\n",
            "+----------+--------+----------------+--------------------+-------------------+---------------------+----------------------+---------------------+-------------+\n",
            "only showing top 20 rows\n",
            "\n"
          ],
          "name": "stdout"
        }
      ]
    },
    {
      "cell_type": "code",
      "metadata": {
        "id": "4E0VikLJLAxZ"
      },
      "source": [
        "#Instances where INR to Euro Present\n",
        "INR_EUR=spark.sql(\"select * from test_table2  a where a.FROMCRNCCD=='INR' AND a.TOCRNCCD=='EUR'\")"
      ],
      "execution_count": null,
      "outputs": []
    },
    {
      "cell_type": "code",
      "metadata": {
        "colab": {
          "base_uri": "https://localhost:8080/"
        },
        "id": "DZYyzfBn69Oy",
        "outputId": "3e13072d-9166-4961-cbae-84156c68635c"
      },
      "source": [
        "INR_EUR.show()"
      ],
      "execution_count": null,
      "outputs": [
        {
          "output_type": "stream",
          "text": [
            "+----------+--------+----------------+-------------------+-------------------+---------------------+----------------------+---------------------+-------------+-----------------+\n",
            "|FROMCRNCCD|TOCRNCCD|CRNCFROMLONGDESC|     CRNCTOLONGDESC|CRNCEXCHGRATETYPECD|CRNCEXCHGRATETYPEDESC|CRNCEXCHGRATEEFFSTRTDT|CRNCEXCHGRATEEFFENDDT|CRNCEXCHGRATE|             BACK|\n",
            "+----------+--------+----------------+-------------------+-------------------+---------------------+----------------------+---------------------+-------------+-----------------+\n",
            "|       INR|     EUR|    Indian Rupee|EMU currency (Euro)|                  B|            excg rate|              01/11/05|             30/11/05|  0.015873016|     62.999999496|\n",
            "|       INR|     EUR|    Indian Rupee|EMU currency (Euro)|                  B|            excg rate|              01/12/05|             31/12/05|  0.015873016|     62.999999496|\n",
            "|       INR|     EUR|    Indian Rupee|EMU currency (Euro)|                  B|            excg rate|              01/01/06|             31/01/06|  0.015873016|     62.999999496|\n",
            "|       INR|     EUR|    Indian Rupee|EMU currency (Euro)|                  B|            excg rate|              01/02/06|             28/02/06|  0.015873016|     62.999999496|\n",
            "|       INR|     EUR|    Indian Rupee|EMU currency (Euro)|                  B|            excg rate|              01/03/06|             31/03/06|  0.015873016|     62.999999496|\n",
            "|       INR|     EUR|    Indian Rupee|EMU currency (Euro)|                  B|            excg rate|              01/04/06|             30/04/06|  0.015873016|     62.999999496|\n",
            "|       INR|     EUR|    Indian Rupee|EMU currency (Euro)|                  B|            excg rate|              01/05/06|             31/05/06|  0.015873016|     62.999999496|\n",
            "|       INR|     EUR|    Indian Rupee|EMU currency (Euro)|                  B|            excg rate|              01/06/06|             30/06/06|  0.015873016|     62.999999496|\n",
            "|       INR|     EUR|    Indian Rupee|EMU currency (Euro)|                  B|            excg rate|              01/07/06|             31/07/06|  0.015384615|65.00000162500004|\n",
            "|       INR|     EUR|    Indian Rupee|EMU currency (Euro)|                  B|            excg rate|              01/08/06|             31/08/06|  0.015384615|65.00000162500004|\n",
            "|       INR|     EUR|    Indian Rupee|EMU currency (Euro)|                  B|            excg rate|              01/09/06|             30/09/06|  0.015384615|65.00000162500004|\n",
            "|       INR|     EUR|    Indian Rupee|EMU currency (Euro)|                  B|            excg rate|              01/10/06|             31/10/06|  0.015384615|65.00000162500004|\n",
            "|       INR|     EUR|    Indian Rupee|EMU currency (Euro)|                  B|            excg rate|              01/11/06|             30/11/06|  0.015384615|65.00000162500004|\n",
            "|       INR|     EUR|    Indian Rupee|EMU currency (Euro)|                  B|            excg rate|              01/12/06|             31/12/06|  0.015384615|65.00000162500004|\n",
            "|       INR|     EUR|    Indian Rupee|EMU currency (Euro)|                  B|            excg rate|              01/01/07|             31/01/07|  0.015384615|65.00000162500004|\n",
            "|       INR|     EUR|    Indian Rupee|EMU currency (Euro)|                  B|            excg rate|              01/02/07|             28/02/07|  0.015384615|65.00000162500004|\n",
            "|       INR|     EUR|    Indian Rupee|EMU currency (Euro)|                  B|            excg rate|              01/03/07|             31/03/07|  0.015384615|65.00000162500004|\n",
            "|       INR|     EUR|    Indian Rupee|EMU currency (Euro)|                  B|            excg rate|              01/04/07|             30/04/07|  0.015384615|65.00000162500004|\n",
            "|       INR|     EUR|    Indian Rupee|EMU currency (Euro)|                  B|            excg rate|              01/05/07|             31/05/07|  0.015384615|65.00000162500004|\n",
            "|       INR|     EUR|    Indian Rupee|EMU currency (Euro)|                  B|            excg rate|              01/06/07|             30/06/07|  0.015384615|65.00000162500004|\n",
            "+----------+--------+----------------+-------------------+-------------------+---------------------+----------------------+---------------------+-------------+-----------------+\n",
            "only showing top 20 rows\n",
            "\n"
          ],
          "name": "stdout"
        }
      ]
    },
    {
      "cell_type": "code",
      "metadata": {
        "id": "2hyqNmJF_ImX"
      },
      "source": [
        "#Instances where INR to USD Present\n",
        "INR_USD=spark.sql(\"select * from test_table2  a where a.FROMCRNCCD=='INR' AND a.TOCRNCCD=='USD'\")"
      ],
      "execution_count": null,
      "outputs": []
    },
    {
      "cell_type": "code",
      "metadata": {
        "colab": {
          "base_uri": "https://localhost:8080/"
        },
        "id": "r7ofRBNT7Cnr",
        "outputId": "32cf903d-d4ee-4f02-e526-878157f3b781"
      },
      "source": [
        "INR_USD.show()"
      ],
      "execution_count": null,
      "outputs": [
        {
          "output_type": "stream",
          "text": [
            "+----------+--------+----------------+---------------+-------------------+---------------------+----------------------+---------------------+-------------+------------+\n",
            "|FROMCRNCCD|TOCRNCCD|CRNCFROMLONGDESC| CRNCTOLONGDESC|CRNCEXCHGRATETYPECD|CRNCEXCHGRATETYPEDESC|CRNCEXCHGRATEEFFSTRTDT|CRNCEXCHGRATEEFFENDDT|CRNCEXCHGRATE|        BACK|\n",
            "+----------+--------+----------------+---------------+-------------------+---------------------+----------------------+---------------------+-------------+------------+\n",
            "|       INR|     USD|    Indian Rupee|American Dollar|                  B|            excg rate|              01/11/05|             30/11/05|  0.022222222| 45.00000045|\n",
            "|       INR|     USD|    Indian Rupee|American Dollar|                  B|            excg rate|              01/12/05|             31/12/05|  0.022222222| 45.00000045|\n",
            "|       INR|     USD|    Indian Rupee|American Dollar|                  B|            excg rate|              01/01/06|             31/01/06|  0.022222222| 45.00000045|\n",
            "|       INR|     USD|    Indian Rupee|American Dollar|                  B|            excg rate|              01/02/06|             28/02/06|  0.022222222| 45.00000045|\n",
            "|       INR|     USD|    Indian Rupee|American Dollar|                  B|            excg rate|              01/03/06|             31/03/06|  0.022222222| 45.00000045|\n",
            "|       INR|     USD|    Indian Rupee|American Dollar|                  B|            excg rate|              01/04/06|             30/04/06|  0.022222222| 45.00000045|\n",
            "|       INR|     USD|    Indian Rupee|American Dollar|                  B|            excg rate|              01/05/06|             31/05/06|  0.022222222| 45.00000045|\n",
            "|       INR|     USD|    Indian Rupee|American Dollar|                  B|            excg rate|              01/06/06|             30/06/06|  0.022222222| 45.00000045|\n",
            "|       INR|     USD|    Indian Rupee|American Dollar|                  B|            excg rate|              01/07/06|             31/07/06|  0.019230769|52.000000624|\n",
            "|       INR|     USD|    Indian Rupee|American Dollar|                  B|            excg rate|              01/08/06|             31/08/06|  0.019230769|52.000000624|\n",
            "|       INR|     USD|    Indian Rupee|American Dollar|                  B|            excg rate|              01/09/06|             30/09/06|  0.019230769|52.000000624|\n",
            "|       INR|     USD|    Indian Rupee|American Dollar|                  B|            excg rate|              01/10/06|             31/10/06|  0.019230769|52.000000624|\n",
            "|       INR|     USD|    Indian Rupee|American Dollar|                  B|            excg rate|              01/11/06|             30/11/06|  0.019230769|52.000000624|\n",
            "|       INR|     USD|    Indian Rupee|American Dollar|                  B|            excg rate|              01/12/06|             31/12/06|  0.019230769|52.000000624|\n",
            "|       INR|     USD|    Indian Rupee|American Dollar|                  B|            excg rate|              01/01/07|             31/01/07|  0.019230769|52.000000624|\n",
            "|       INR|     USD|    Indian Rupee|American Dollar|                  B|            excg rate|              01/02/07|             28/02/07|  0.019230769|52.000000624|\n",
            "|       INR|     USD|    Indian Rupee|American Dollar|                  B|            excg rate|              01/03/07|             31/03/07|  0.019230769|52.000000624|\n",
            "|       INR|     USD|    Indian Rupee|American Dollar|                  B|            excg rate|              01/04/07|             30/04/07|  0.019230769|52.000000624|\n",
            "|       INR|     USD|    Indian Rupee|American Dollar|                  B|            excg rate|              01/05/07|             31/05/07|  0.019230769|52.000000624|\n",
            "|       INR|     USD|    Indian Rupee|American Dollar|                  B|            excg rate|              01/06/07|             30/06/07|  0.019230769|52.000000624|\n",
            "+----------+--------+----------------+---------------+-------------------+---------------------+----------------------+---------------------+-------------+------------+\n",
            "only showing top 20 rows\n",
            "\n"
          ],
          "name": "stdout"
        }
      ]
    },
    {
      "cell_type": "markdown",
      "metadata": {
        "id": "xE5lQbGT7HHf"
      },
      "source": [
        "# Transformation Function and creating a new column in DataFrames"
      ]
    },
    {
      "cell_type": "code",
      "metadata": {
        "id": "fzUXrVSFzMBh"
      },
      "source": [
        "# Converting INR to USD\n",
        "INR_USD=INR_USD.withColumn(\"BACK\", 1/INR_USD.CRNCEXCHGRATE)"
      ],
      "execution_count": null,
      "outputs": []
    },
    {
      "cell_type": "code",
      "metadata": {
        "colab": {
          "base_uri": "https://localhost:8080/"
        },
        "id": "2DUuq4iSzlTt",
        "outputId": "1996bae4-376c-4c70-cc35-98006ccec884"
      },
      "source": [
        "INR_USD.show()"
      ],
      "execution_count": null,
      "outputs": [
        {
          "output_type": "stream",
          "text": [
            "+----------+--------+----------------+---------------+-------------------+---------------------+----------------------+---------------------+-------------+------------+\n",
            "|FROMCRNCCD|TOCRNCCD|CRNCFROMLONGDESC| CRNCTOLONGDESC|CRNCEXCHGRATETYPECD|CRNCEXCHGRATETYPEDESC|CRNCEXCHGRATEEFFSTRTDT|CRNCEXCHGRATEEFFENDDT|CRNCEXCHGRATE|        BACK|\n",
            "+----------+--------+----------------+---------------+-------------------+---------------------+----------------------+---------------------+-------------+------------+\n",
            "|       INR|     USD|    Indian Rupee|American Dollar|                  B|            excg rate|              01/11/05|             30/11/05|  0.022222222| 45.00000045|\n",
            "|       INR|     USD|    Indian Rupee|American Dollar|                  B|            excg rate|              01/12/05|             31/12/05|  0.022222222| 45.00000045|\n",
            "|       INR|     USD|    Indian Rupee|American Dollar|                  B|            excg rate|              01/01/06|             31/01/06|  0.022222222| 45.00000045|\n",
            "|       INR|     USD|    Indian Rupee|American Dollar|                  B|            excg rate|              01/02/06|             28/02/06|  0.022222222| 45.00000045|\n",
            "|       INR|     USD|    Indian Rupee|American Dollar|                  B|            excg rate|              01/03/06|             31/03/06|  0.022222222| 45.00000045|\n",
            "|       INR|     USD|    Indian Rupee|American Dollar|                  B|            excg rate|              01/04/06|             30/04/06|  0.022222222| 45.00000045|\n",
            "|       INR|     USD|    Indian Rupee|American Dollar|                  B|            excg rate|              01/05/06|             31/05/06|  0.022222222| 45.00000045|\n",
            "|       INR|     USD|    Indian Rupee|American Dollar|                  B|            excg rate|              01/06/06|             30/06/06|  0.022222222| 45.00000045|\n",
            "|       INR|     USD|    Indian Rupee|American Dollar|                  B|            excg rate|              01/07/06|             31/07/06|  0.019230769|52.000000624|\n",
            "|       INR|     USD|    Indian Rupee|American Dollar|                  B|            excg rate|              01/08/06|             31/08/06|  0.019230769|52.000000624|\n",
            "|       INR|     USD|    Indian Rupee|American Dollar|                  B|            excg rate|              01/09/06|             30/09/06|  0.019230769|52.000000624|\n",
            "|       INR|     USD|    Indian Rupee|American Dollar|                  B|            excg rate|              01/10/06|             31/10/06|  0.019230769|52.000000624|\n",
            "|       INR|     USD|    Indian Rupee|American Dollar|                  B|            excg rate|              01/11/06|             30/11/06|  0.019230769|52.000000624|\n",
            "|       INR|     USD|    Indian Rupee|American Dollar|                  B|            excg rate|              01/12/06|             31/12/06|  0.019230769|52.000000624|\n",
            "|       INR|     USD|    Indian Rupee|American Dollar|                  B|            excg rate|              01/01/07|             31/01/07|  0.019230769|52.000000624|\n",
            "|       INR|     USD|    Indian Rupee|American Dollar|                  B|            excg rate|              01/02/07|             28/02/07|  0.019230769|52.000000624|\n",
            "|       INR|     USD|    Indian Rupee|American Dollar|                  B|            excg rate|              01/03/07|             31/03/07|  0.019230769|52.000000624|\n",
            "|       INR|     USD|    Indian Rupee|American Dollar|                  B|            excg rate|              01/04/07|             30/04/07|  0.019230769|52.000000624|\n",
            "|       INR|     USD|    Indian Rupee|American Dollar|                  B|            excg rate|              01/05/07|             31/05/07|  0.019230769|52.000000624|\n",
            "|       INR|     USD|    Indian Rupee|American Dollar|                  B|            excg rate|              01/06/07|             30/06/07|  0.019230769|52.000000624|\n",
            "+----------+--------+----------------+---------------+-------------------+---------------------+----------------------+---------------------+-------------+------------+\n",
            "only showing top 20 rows\n",
            "\n"
          ],
          "name": "stdout"
        }
      ]
    },
    {
      "cell_type": "code",
      "metadata": {
        "id": "grbiGaWczus3"
      },
      "source": [
        "# Converting INR to Euro\n",
        "INR_EUR=INR_EUR.withColumn(\"BACK\", 1/INR_USD.CRNCEXCHGRATE)"
      ],
      "execution_count": null,
      "outputs": []
    },
    {
      "cell_type": "code",
      "metadata": {
        "colab": {
          "base_uri": "https://localhost:8080/"
        },
        "id": "mgcHZvEM0AIm",
        "outputId": "ac4e48ed-3dd7-4e52-d68c-14ec96ae575b"
      },
      "source": [
        "INR_EUR.show()"
      ],
      "execution_count": null,
      "outputs": [
        {
          "output_type": "stream",
          "text": [
            "+----------+--------+----------------+-------------------+-------------------+---------------------+----------------------+---------------------+-------------+-----------------+\n",
            "|FROMCRNCCD|TOCRNCCD|CRNCFROMLONGDESC|     CRNCTOLONGDESC|CRNCEXCHGRATETYPECD|CRNCEXCHGRATETYPEDESC|CRNCEXCHGRATEEFFSTRTDT|CRNCEXCHGRATEEFFENDDT|CRNCEXCHGRATE|             BACK|\n",
            "+----------+--------+----------------+-------------------+-------------------+---------------------+----------------------+---------------------+-------------+-----------------+\n",
            "|       INR|     EUR|    Indian Rupee|EMU currency (Euro)|                  B|            excg rate|              01/11/05|             30/11/05|  0.015873016|     62.999999496|\n",
            "|       INR|     EUR|    Indian Rupee|EMU currency (Euro)|                  B|            excg rate|              01/12/05|             31/12/05|  0.015873016|     62.999999496|\n",
            "|       INR|     EUR|    Indian Rupee|EMU currency (Euro)|                  B|            excg rate|              01/01/06|             31/01/06|  0.015873016|     62.999999496|\n",
            "|       INR|     EUR|    Indian Rupee|EMU currency (Euro)|                  B|            excg rate|              01/02/06|             28/02/06|  0.015873016|     62.999999496|\n",
            "|       INR|     EUR|    Indian Rupee|EMU currency (Euro)|                  B|            excg rate|              01/03/06|             31/03/06|  0.015873016|     62.999999496|\n",
            "|       INR|     EUR|    Indian Rupee|EMU currency (Euro)|                  B|            excg rate|              01/04/06|             30/04/06|  0.015873016|     62.999999496|\n",
            "|       INR|     EUR|    Indian Rupee|EMU currency (Euro)|                  B|            excg rate|              01/05/06|             31/05/06|  0.015873016|     62.999999496|\n",
            "|       INR|     EUR|    Indian Rupee|EMU currency (Euro)|                  B|            excg rate|              01/06/06|             30/06/06|  0.015873016|     62.999999496|\n",
            "|       INR|     EUR|    Indian Rupee|EMU currency (Euro)|                  B|            excg rate|              01/07/06|             31/07/06|  0.015384615|65.00000162500004|\n",
            "|       INR|     EUR|    Indian Rupee|EMU currency (Euro)|                  B|            excg rate|              01/08/06|             31/08/06|  0.015384615|65.00000162500004|\n",
            "|       INR|     EUR|    Indian Rupee|EMU currency (Euro)|                  B|            excg rate|              01/09/06|             30/09/06|  0.015384615|65.00000162500004|\n",
            "|       INR|     EUR|    Indian Rupee|EMU currency (Euro)|                  B|            excg rate|              01/10/06|             31/10/06|  0.015384615|65.00000162500004|\n",
            "|       INR|     EUR|    Indian Rupee|EMU currency (Euro)|                  B|            excg rate|              01/11/06|             30/11/06|  0.015384615|65.00000162500004|\n",
            "|       INR|     EUR|    Indian Rupee|EMU currency (Euro)|                  B|            excg rate|              01/12/06|             31/12/06|  0.015384615|65.00000162500004|\n",
            "|       INR|     EUR|    Indian Rupee|EMU currency (Euro)|                  B|            excg rate|              01/01/07|             31/01/07|  0.015384615|65.00000162500004|\n",
            "|       INR|     EUR|    Indian Rupee|EMU currency (Euro)|                  B|            excg rate|              01/02/07|             28/02/07|  0.015384615|65.00000162500004|\n",
            "|       INR|     EUR|    Indian Rupee|EMU currency (Euro)|                  B|            excg rate|              01/03/07|             31/03/07|  0.015384615|65.00000162500004|\n",
            "|       INR|     EUR|    Indian Rupee|EMU currency (Euro)|                  B|            excg rate|              01/04/07|             30/04/07|  0.015384615|65.00000162500004|\n",
            "|       INR|     EUR|    Indian Rupee|EMU currency (Euro)|                  B|            excg rate|              01/05/07|             31/05/07|  0.015384615|65.00000162500004|\n",
            "|       INR|     EUR|    Indian Rupee|EMU currency (Euro)|                  B|            excg rate|              01/06/07|             30/06/07|  0.015384615|65.00000162500004|\n",
            "+----------+--------+----------------+-------------------+-------------------+---------------------+----------------------+---------------------+-------------+-----------------+\n",
            "only showing top 20 rows\n",
            "\n"
          ],
          "name": "stdout"
        }
      ]
    },
    {
      "cell_type": "code",
      "metadata": {
        "id": "GYyESrPd08XE"
      },
      "source": [
        "# If we are doing this to whole DataFrame\n",
        "df=df.withColumn(\"BACK\", 1/df.CRNCEXCHGRATE)"
      ],
      "execution_count": null,
      "outputs": []
    },
    {
      "cell_type": "code",
      "metadata": {
        "colab": {
          "base_uri": "https://localhost:8080/"
        },
        "id": "xN5i3gyB1EAu",
        "outputId": "37d4e60a-f9fe-43b6-a0bb-25019bda94cb"
      },
      "source": [
        "df.show()"
      ],
      "execution_count": null,
      "outputs": [
        {
          "output_type": "stream",
          "text": [
            "+----------+--------+----------------+--------------------+-------------------+---------------------+----------------------+---------------------+-------------+--------------------+\n",
            "|FROMCRNCCD|TOCRNCCD|CRNCFROMLONGDESC|      CRNCTOLONGDESC|CRNCEXCHGRATETYPECD|CRNCEXCHGRATETYPEDESC|CRNCEXCHGRATEEFFSTRTDT|CRNCEXCHGRATEEFFENDDT|CRNCEXCHGRATE|                BACK|\n",
            "+----------+--------+----------------+--------------------+-------------------+---------------------+----------------------+---------------------+-------------+--------------------+\n",
            "|       SKK|     BDT| Slovakian Krona|     Bangladesh Taka|                  B|            excg rate|              01/11/05|             30/11/05|  3.182271075|  0.3142409858971552|\n",
            "|       SKK|     USD| Slovakian Krona|     American Dollar|                  B|            excg rate|              01/11/05|             30/11/05|  0.044820719|  22.311110180985718|\n",
            "|       SKK|   *UNK*| Slovakian Krona|                null|                  B|            excg rate|              01/11/05|             30/11/05|          0.0|                null|\n",
            "|       SKK|     IDR| Slovakian Krona|   Indonesian Rupiah|                  B|            excg rate|              01/11/05|             30/11/05|  403.3864743|0.002479012222051591|\n",
            "|       SKK|     MYR| Slovakian Krona|   Malaysian Ringgit|                  B|            excg rate|              01/11/05|             30/11/05|   0.13894423|   7.197132259468421|\n",
            "|       SKK|     PYG| Slovakian Krona|  Paraguayan Guarani|                  B|            excg rate|              01/11/05|             30/11/05|   210.657381|0.004747044681050127|\n",
            "|       SKK|     HRK| Slovakian Krona|       Croatian Kuna|                  B|            excg rate|              01/11/05|             30/11/05|  0.236909325|   4.221024225196707|\n",
            "|       SKK|     UYU| Slovakian Krona|Uruguayan Peso (new)|                  B|            excg rate|              01/11/05|             30/11/05|  0.896414387|  1.1155555003380373|\n",
            "|       SKK|     KRW| Slovakian Krona|    South Korean Won|                  B|            excg rate|              01/11/05|             30/11/05|  51.54382727|0.019400965216683257|\n",
            "|       SKK|     ZWD| Slovakian Krona|   Zimbabwean Dollar|                  B|            excg rate|              01/11/05|             30/11/05|   0.16449204|   6.079321528263617|\n",
            "|       SKK|     CZK| Slovakian Krona|         Czech Krona|                  B|            excg rate|              01/11/05|             30/11/05|  0.800369861|  1.2494223592459837|\n",
            "|       SKK|     THB| Slovakian Krona|       Thailand Baht|                  B|            excg rate|              01/11/05|             30/11/05|  1.344621581|  0.7437036666154773|\n",
            "|       SKK|     AUD| Slovakian Krona|   Australian Dollar|                  B|            excg rate|              01/11/05|             30/11/05|  0.047179705|  21.195554317264172|\n",
            "|       SKK|     VND| Slovakian Krona|     Vietnamese Dong|                  B|            excg rate|              01/11/05|             30/11/05|  941.2351066|0.001062433809563...|\n",
            "|       SKK|     HKD| Slovakian Krona|    Hong Kong Dollar|                  B|            excg rate|              01/11/05|             30/11/05|  0.349601611|   2.860398718242749|\n",
            "|       SKK|     SGD| Slovakian Krona|    Singapore Dollar|                  B|            excg rate|              01/11/05|             30/11/05|  0.056025899|  17.848888065142873|\n",
            "|       SKK|     CAD| Slovakian Krona|     Canadian Dollar|                  B|            excg rate|              01/11/05|             30/11/05|  0.044820719|  22.311110180985718|\n",
            "|       SKK|     GBP| Slovakian Krona|       British Pound|                  B|            excg rate|              01/11/05|             30/11/05|   0.02721256|   36.74773707435096|\n",
            "|       SKK|     ZAR| Slovakian Krona|  South African Rand|                  B|            excg rate|              01/11/05|             30/11/05|  0.336155395|  2.9748146686742896|\n",
            "|       SKK|     TRL| Slovakian Krona|        Turkish Lira|                  B|            excg rate|              01/11/05|             30/11/05|  71713.15098|1.394444375033651...|\n",
            "+----------+--------+----------------+--------------------+-------------------+---------------------+----------------------+---------------------+-------------+--------------------+\n",
            "only showing top 20 rows\n",
            "\n"
          ],
          "name": "stdout"
        }
      ]
    },
    {
      "cell_type": "code",
      "metadata": {
        "colab": {
          "base_uri": "https://localhost:8080/"
        },
        "id": "Z3l1BmNE8Bf3",
        "outputId": "910503d3-ea9f-4ff6-ef0f-a28371e98f12"
      },
      "source": [
        "from pyspark.sql.functions import col, avg\n",
        "# Average of Euro Currency\n",
        "INR_EUR.agg(avg(col(\"BACK\"))).show()\n",
        "# Average of USD Currency\n",
        "INR_USD.agg(avg(col(\"BACK\"))).show()"
      ],
      "execution_count": 69,
      "outputs": [
        {
          "output_type": "stream",
          "text": [
            "+-----------------+\n",
            "|        avg(BACK)|\n",
            "+-----------------+\n",
            "|79.23437279809256|\n",
            "+-----------------+\n",
            "\n",
            "+----------------+\n",
            "|       avg(BACK)|\n",
            "+----------------+\n",
            "|66.7437176038998|\n",
            "+----------------+\n",
            "\n"
          ],
          "name": "stdout"
        }
      ]
    }
  ]
}